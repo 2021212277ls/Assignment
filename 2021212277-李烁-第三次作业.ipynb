{
 "cells": [
  {
   "cell_type": "code",
   "execution_count": 2,
   "id": "593cb2e4",
   "metadata": {},
   "outputs": [
    {
     "name": "stdout",
     "output_type": "stream",
     "text": [
      "提取的关键词： ['中国', '发展', '人民', '国际', '世界']\n"
     ]
    }
   ],
   "source": [
    "import re  \n",
    "  \n",
    "def remove_non_chinese(input_file, output_file):  \n",
    "    # 编译一个正则表达式，匹配所有中文字符  \n",
    "    chinese_pattern = re.compile(r'[\\u4e00-\\u9fa5]+')  \n",
    "  \n",
    "    with open(input_file, 'r', encoding='utf-8') as f_in, open(output_file, 'w', encoding='utf-8') as f_out:  \n",
    "        for line in f_in:  \n",
    "            # 查找所有中文字符序列  \n",
    "            chinese_chars = chinese_pattern.findall(line)  \n",
    "              \n",
    "            # 将找到的中文字符序列连接成一个字符串，并写入输出文件  \n",
    "            # 这里假设关键词之间用空格分隔  \n",
    "            cleaned_line = ' '.join(chinese_chars)  \n",
    "            f_out.write(cleaned_line + '\\n')  \n",
    "  \n",
    "# 使用示例  \n",
    "input_file = '19980101-01-001-001.txt'  \n",
    "output_file = 'cleaned_19980101-01-001-001.txt'  \n",
    "remove_non_chinese(input_file, output_file)\n",
    "import jieba\n",
    "from jieba import analyse\n",
    "\n",
    "# 读取指定文件中的前16行文本\n",
    "def read_file_lines(filename, num_lines=16):\n",
    "    with open(filename, 'r', encoding='utf-8') as file:\n",
    "        lines = [next(file).strip() for _ in range(num_lines)]\n",
    "    return '\\n'.join(lines)\n",
    "\n",
    "# 提取关键词\n",
    "def extract_keywords(text, top_k=5):\n",
    "    keywords = jieba.analyse.extract_tags(text, topK=top_k)\n",
    "    return keywords\n",
    "\n",
    "# 文件名\n",
    "filename = \"cleaned_19980101-01-001-001.txt\"\n",
    "\n",
    "# 读取文件中的前16行文本\n",
    "text = read_file_lines(filename, num_lines=16)\n",
    "\n",
    "# 提取关键词\n",
    "keywords = extract_keywords(text, top_k=5)\n",
    "\n",
    "print(\"提取的关键词：\", keywords)"
   ]
  },
  {
   "cell_type": "code",
   "execution_count": null,
   "id": "7948b2d3",
   "metadata": {},
   "outputs": [],
   "source": []
  }
 ],
 "metadata": {
  "kernelspec": {
   "display_name": "Python 3 (ipykernel)",
   "language": "python",
   "name": "python3"
  },
  "language_info": {
   "codemirror_mode": {
    "name": "ipython",
    "version": 3
   },
   "file_extension": ".py",
   "mimetype": "text/x-python",
   "name": "python",
   "nbconvert_exporter": "python",
   "pygments_lexer": "ipython3",
   "version": "3.11.7"
  }
 },
 "nbformat": 4,
 "nbformat_minor": 5
}
